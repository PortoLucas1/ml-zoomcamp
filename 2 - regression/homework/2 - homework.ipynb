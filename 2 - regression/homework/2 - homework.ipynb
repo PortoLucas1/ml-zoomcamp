{
 "cells": [
  {
   "cell_type": "markdown",
   "id": "015496a8",
   "metadata": {},
   "source": [
    "### OCI Data Science - Useful Tips\n",
    "<details>\n",
    "<summary><font size=\"2\">Check for Public Internet Access</font></summary>\n",
    "\n",
    "```python\n",
    "import requests\n",
    "response = requests.get(\"https://oracle.com\")\n",
    "assert response.status_code==200, \"Internet connection failed\"\n",
    "```\n",
    "</details>\n",
    "<details>\n",
    "<summary><font size=\"2\">Helpful Documentation </font></summary>\n",
    "<ul><li><a href=\"https://docs.cloud.oracle.com/en-us/iaas/data-science/using/data-science.htm\">Data Science Service Documentation</a></li>\n",
    "<li><a href=\"https://docs.cloud.oracle.com/iaas/tools/ads-sdk/latest/index.html\">ADS documentation</a></li>\n",
    "</ul>\n",
    "</details>\n",
    "<details>\n",
    "<summary><font size=\"2\">Typical Cell Imports and Settings for ADS</font></summary>\n",
    "\n",
    "```python\n",
    "%load_ext autoreload\n",
    "%autoreload 2\n",
    "%matplotlib inline\n",
    "\n",
    "import warnings\n",
    "warnings.filterwarnings('ignore')\n",
    "\n",
    "import logging\n",
    "logging.basicConfig(format='%(levelname)s:%(message)s', level=logging.ERROR)\n",
    "\n",
    "import ads\n",
    "from ads.dataset.factory import DatasetFactory\n",
    "from ads.automl.provider import OracleAutoMLProvider\n",
    "from ads.automl.driver import AutoML\n",
    "from ads.evaluations.evaluator import ADSEvaluator\n",
    "from ads.common.data import ADSData\n",
    "from ads.explanations.explainer import ADSExplainer\n",
    "from ads.explanations.mlx_global_explainer import MLXGlobalExplainer\n",
    "from ads.explanations.mlx_local_explainer import MLXLocalExplainer\n",
    "from ads.catalog.model import ModelCatalog\n",
    "from ads.common.model_artifact import ModelArtifact\n",
    "```\n",
    "</details>\n",
    "<details>\n",
    "<summary><font size=\"2\">Useful Environment Variables</font></summary>\n",
    "\n",
    "```python\n",
    "import os\n",
    "print(os.environ[\"NB_SESSION_COMPARTMENT_OCID\"])\n",
    "print(os.environ[\"PROJECT_OCID\"])\n",
    "print(os.environ[\"USER_OCID\"])\n",
    "print(os.environ[\"TENANCY_OCID\"])\n",
    "print(os.environ[\"NB_REGION\"])\n",
    "```\n",
    "</details>"
   ]
  },
  {
   "cell_type": "code",
   "execution_count": 302,
   "id": "859499ac",
   "metadata": {},
   "outputs": [],
   "source": [
    "import pandas as pd\n",
    "import numpy as np"
   ]
  },
  {
   "cell_type": "markdown",
   "id": "71c9eff9",
   "metadata": {},
   "source": [
    "# 2.0 Data Collection"
   ]
  },
  {
   "cell_type": "code",
   "execution_count": 2,
   "id": "421e5fc8",
   "metadata": {},
   "outputs": [
    {
     "name": "stdout",
     "output_type": "stream",
     "text": [
      "--2023-09-23 13:18:01--  https://raw.githubusercontent.com/alexeygrigorev/datasets/master/housing.csv\n",
      "Resolving raw.githubusercontent.com (raw.githubusercontent.com)... 185.199.108.133, 185.199.109.133, 185.199.110.133, ...\n",
      "Connecting to raw.githubusercontent.com (raw.githubusercontent.com)|185.199.108.133|:443... connected.\n",
      "HTTP request sent, awaiting response... 200 OK\n",
      "Length: 1423529 (1.4M) [text/plain]\n",
      "Saving to: ‘housing.csv’\n",
      "\n",
      "100%[======================================>] 1,423,529   --.-K/s   in 0.006s  \n",
      "\n",
      "2023-09-23 13:18:01 (223 MB/s) - ‘housing.csv’ saved [1423529/1423529]\n",
      "\n"
     ]
    }
   ],
   "source": [
    "!wget https://raw.githubusercontent.com/alexeygrigorev/datasets/master/housing.csv"
   ]
  },
  {
   "cell_type": "code",
   "execution_count": 303,
   "id": "23e27c63",
   "metadata": {},
   "outputs": [],
   "source": [
    "df=pd.read_csv('housing.csv')"
   ]
  },
  {
   "cell_type": "markdown",
   "id": "890b863a",
   "metadata": {},
   "source": [
    "# 2.1 Data Preparation"
   ]
  },
  {
   "cell_type": "code",
   "execution_count": 304,
   "id": "2ac39d93",
   "metadata": {},
   "outputs": [
    {
     "data": {
      "text/html": [
       "<div>\n",
       "<style scoped>\n",
       "    .dataframe tbody tr th:only-of-type {\n",
       "        vertical-align: middle;\n",
       "    }\n",
       "\n",
       "    .dataframe tbody tr th {\n",
       "        vertical-align: top;\n",
       "    }\n",
       "\n",
       "    .dataframe thead th {\n",
       "        text-align: right;\n",
       "    }\n",
       "</style>\n",
       "<table border=\"1\" class=\"dataframe\">\n",
       "  <thead>\n",
       "    <tr style=\"text-align: right;\">\n",
       "      <th></th>\n",
       "      <th>longitude</th>\n",
       "      <th>latitude</th>\n",
       "      <th>housing_median_age</th>\n",
       "      <th>total_rooms</th>\n",
       "      <th>total_bedrooms</th>\n",
       "      <th>population</th>\n",
       "      <th>households</th>\n",
       "      <th>median_income</th>\n",
       "      <th>median_house_value</th>\n",
       "      <th>ocean_proximity</th>\n",
       "    </tr>\n",
       "  </thead>\n",
       "  <tbody>\n",
       "    <tr>\n",
       "      <th>0</th>\n",
       "      <td>-122.23</td>\n",
       "      <td>37.88</td>\n",
       "      <td>41.0</td>\n",
       "      <td>880.0</td>\n",
       "      <td>129.0</td>\n",
       "      <td>322.0</td>\n",
       "      <td>126.0</td>\n",
       "      <td>8.3252</td>\n",
       "      <td>452600.0</td>\n",
       "      <td>NEAR BAY</td>\n",
       "    </tr>\n",
       "    <tr>\n",
       "      <th>1</th>\n",
       "      <td>-122.22</td>\n",
       "      <td>37.86</td>\n",
       "      <td>21.0</td>\n",
       "      <td>7099.0</td>\n",
       "      <td>1106.0</td>\n",
       "      <td>2401.0</td>\n",
       "      <td>1138.0</td>\n",
       "      <td>8.3014</td>\n",
       "      <td>358500.0</td>\n",
       "      <td>NEAR BAY</td>\n",
       "    </tr>\n",
       "    <tr>\n",
       "      <th>2</th>\n",
       "      <td>-122.24</td>\n",
       "      <td>37.85</td>\n",
       "      <td>52.0</td>\n",
       "      <td>1467.0</td>\n",
       "      <td>190.0</td>\n",
       "      <td>496.0</td>\n",
       "      <td>177.0</td>\n",
       "      <td>7.2574</td>\n",
       "      <td>352100.0</td>\n",
       "      <td>NEAR BAY</td>\n",
       "    </tr>\n",
       "    <tr>\n",
       "      <th>3</th>\n",
       "      <td>-122.25</td>\n",
       "      <td>37.85</td>\n",
       "      <td>52.0</td>\n",
       "      <td>1274.0</td>\n",
       "      <td>235.0</td>\n",
       "      <td>558.0</td>\n",
       "      <td>219.0</td>\n",
       "      <td>5.6431</td>\n",
       "      <td>341300.0</td>\n",
       "      <td>NEAR BAY</td>\n",
       "    </tr>\n",
       "    <tr>\n",
       "      <th>4</th>\n",
       "      <td>-122.25</td>\n",
       "      <td>37.85</td>\n",
       "      <td>52.0</td>\n",
       "      <td>1627.0</td>\n",
       "      <td>280.0</td>\n",
       "      <td>565.0</td>\n",
       "      <td>259.0</td>\n",
       "      <td>3.8462</td>\n",
       "      <td>342200.0</td>\n",
       "      <td>NEAR BAY</td>\n",
       "    </tr>\n",
       "  </tbody>\n",
       "</table>\n",
       "</div>"
      ],
      "text/plain": [
       "   longitude  latitude  housing_median_age  total_rooms  total_bedrooms  \\\n",
       "0    -122.23     37.88                41.0        880.0           129.0   \n",
       "1    -122.22     37.86                21.0       7099.0          1106.0   \n",
       "2    -122.24     37.85                52.0       1467.0           190.0   \n",
       "3    -122.25     37.85                52.0       1274.0           235.0   \n",
       "4    -122.25     37.85                52.0       1627.0           280.0   \n",
       "\n",
       "   population  households  median_income  median_house_value ocean_proximity  \n",
       "0       322.0       126.0         8.3252            452600.0        NEAR BAY  \n",
       "1      2401.0      1138.0         8.3014            358500.0        NEAR BAY  \n",
       "2       496.0       177.0         7.2574            352100.0        NEAR BAY  \n",
       "3       558.0       219.0         5.6431            341300.0        NEAR BAY  \n",
       "4       565.0       259.0         3.8462            342200.0        NEAR BAY  "
      ]
     },
     "execution_count": 304,
     "metadata": {},
     "output_type": "execute_result"
    }
   ],
   "source": [
    "df.head()"
   ]
  },
  {
   "cell_type": "code",
   "execution_count": 305,
   "id": "6796c9b2",
   "metadata": {},
   "outputs": [
    {
     "data": {
      "text/plain": [
       "<Axes: xlabel='median_house_value', ylabel='Count'>"
      ]
     },
     "execution_count": 305,
     "metadata": {},
     "output_type": "execute_result"
    },
    {
     "data": {
      "image/png": "[encoded data removed]",
      "text/plain": [
       "<Figure size 640x480 with 1 Axes>"
      ]
     },
     "metadata": {},
     "output_type": "display_data"
    }
   ],
   "source": [
    "#checking if the data has a long tail -> R: Yes, it has, at the end.\n",
    "import seaborn as sns\n",
    "sns.histplot(df['median_house_value'])"
   ]
  },
  {
   "cell_type": "markdown",
   "id": "6a7fcd43",
   "metadata": {},
   "source": [
    "# 2.2 Preparing the dataset"
   ]
  },
  {
   "cell_type": "code",
   "execution_count": 311,
   "id": "0c551b90",
   "metadata": {},
   "outputs": [
    {
     "data": {
      "text/plain": [
       "array(['<1H OCEAN', 'INLAND'], dtype=object)"
      ]
     },
     "execution_count": 311,
     "metadata": {},
     "output_type": "execute_result"
    }
   ],
   "source": [
    "#First, keep only the records where ocean_proximity is either '<1H OCEAN' or 'INLAND'\n",
    "df_sub = df[df.ocean_proximity.isin(['<1H OCEAN' , 'INLAND'])]\n",
    "df_sub = df_sub.reset_index(drop=True)\n",
    "df_sub.ocean_proximity.unique()"
   ]
  },
  {
   "cell_type": "code",
   "execution_count": 312,
   "id": "b05dbb16",
   "metadata": {},
   "outputs": [],
   "source": [
    "'''\n",
    "Next, use only the following columns:\n",
    "    'latitude',\n",
    "    'longitude',\n",
    "    'housing_median_age',\n",
    "    'total_rooms',\n",
    "    'total_bedrooms',\n",
    "    'population',\n",
    "    'households',\n",
    "    'median_income',\n",
    "    'median_house_value'\n",
    "'''\n",
    "features=[\n",
    "    'latitude',\n",
    "    'longitude',\n",
    "    'housing_median_age',\n",
    "    'total_rooms',\n",
    "    'total_bedrooms',\n",
    "    'population',\n",
    "    'households',\n",
    "    'median_income',\n",
    "    'median_house_value'\n",
    "]"
   ]
  },
  {
   "cell_type": "code",
   "execution_count": 313,
   "id": "b13f8eeb",
   "metadata": {},
   "outputs": [],
   "source": [
    "df_sub = df_sub[features]"
   ]
  },
  {
   "cell_type": "markdown",
   "id": "977a20cc",
   "metadata": {},
   "source": [
    "## Question 1"
   ]
  },
  {
   "cell_type": "code",
   "execution_count": 314,
   "id": "f861ad7e",
   "metadata": {},
   "outputs": [
    {
     "data": {
      "text/plain": [
       "latitude                0\n",
       "longitude               0\n",
       "housing_median_age      0\n",
       "total_rooms             0\n",
       "total_bedrooms        157\n",
       "population              0\n",
       "households              0\n",
       "median_income           0\n",
       "median_house_value      0\n",
       "dtype: int64"
      ]
     },
     "execution_count": 314,
     "metadata": {},
     "output_type": "execute_result"
    }
   ],
   "source": [
    "#There's one feature with missing values. What is it?\n",
    "df_sub.isnull().sum()\n",
    "#R: total_bedrooms"
   ]
  },
  {
   "cell_type": "markdown",
   "id": "4d9e82a7",
   "metadata": {},
   "source": [
    "## Question 2"
   ]
  },
  {
   "cell_type": "code",
   "execution_count": 315,
   "id": "418b0a89",
   "metadata": {},
   "outputs": [
    {
     "data": {
      "text/plain": [
       "1195.0"
      ]
     },
     "execution_count": 315,
     "metadata": {},
     "output_type": "execute_result"
    }
   ],
   "source": [
    "#What's the median (50% percentile) for variable 'population'?\n",
    "df_sub.population.median()\n",
    "#R = 1195"
   ]
  },
  {
   "cell_type": "markdown",
   "id": "ddd326cf",
   "metadata": {},
   "source": [
    "# 2.3 Split the Dataset"
   ]
  },
  {
   "cell_type": "code",
   "execution_count": 316,
   "id": "fa581dff",
   "metadata": {},
   "outputs": [],
   "source": [
    "'''\n",
    "    Shuffle the dataset (the filtered one you created above), use seed 42.\n",
    "    Split your data in train/val/test sets, with 60%/20%/20% distribution.\n",
    "    Apply the log transformation to the median_house_value variable using the np.log1p() function.\n",
    "'''\n",
    "#Shuffling data\n",
    "df_sub = df_sub.sample(frac=1, random_state=42)"
   ]
  },
  {
   "cell_type": "code",
   "execution_count": 317,
   "id": "534a8191",
   "metadata": {},
   "outputs": [],
   "source": [
    "#Splitting data into train, validation and test\n",
    "df_sub\n",
    "n = len(df_sub)\n",
    "n_val=int(n*0.2) #%20\n",
    "n_test=int(n*0.2) #%20\n",
    "n_train=n-n_val-n_test"
   ]
  },
  {
   "cell_type": "code",
   "execution_count": 319,
   "id": "3a4dd576",
   "metadata": {},
   "outputs": [
    {
     "data": {
      "text/plain": [
       "(15687, 15687)"
      ]
     },
     "execution_count": 319,
     "metadata": {},
     "output_type": "execute_result"
    }
   ],
   "source": [
    "n, n_val+n_test+n_train"
   ]
  },
  {
   "cell_type": "code",
   "execution_count": 320,
   "id": "b980ddab",
   "metadata": {},
   "outputs": [],
   "source": [
    "df_val=df_sub.iloc[:n_val]\n",
    "df_test=df_sub.iloc[n_val:n_val+n_test]\n",
    "df_train=df_sub.iloc[n_val+n_test:]"
   ]
  },
  {
   "cell_type": "code",
   "execution_count": 321,
   "id": "029df096",
   "metadata": {},
   "outputs": [
    {
     "data": {
      "text/plain": [
       "(3137, 3137, 9413)"
      ]
     },
     "execution_count": 321,
     "metadata": {},
     "output_type": "execute_result"
    }
   ],
   "source": [
    "len(df_val),len(df_test),len(df_train)"
   ]
  },
  {
   "cell_type": "code",
   "execution_count": 322,
   "id": "35fb40f3",
   "metadata": {},
   "outputs": [],
   "source": [
    "#Applying the log transformation\n",
    "y_train=np.log1p(df_train.median_house_value.values)\n",
    "y_val=np.log1p(df_val.median_house_value.values)\n",
    "y_test=np.log1p(df_test.median_house_value.values)\n",
    "\n",
    "del df_train['median_house_value']\n",
    "del df_val['median_house_value']\n",
    "del df_test['median_house_value']"
   ]
  },
  {
   "cell_type": "markdown",
   "id": "cd38c62f",
   "metadata": {},
   "source": [
    "## Question 3"
   ]
  },
  {
   "cell_type": "code",
   "execution_count": 58,
   "id": "f5bf58df",
   "metadata": {},
   "outputs": [],
   "source": [
    "#We need to deal with missing values for the column from Q1.\n",
    "#Which option gives better RMSE? -> Filling with 0 or imputing with mean?\n",
    "#Filling with 0 = 0.3368 626196050097\n",
    "#Imputing with mean = 0.3367 762082545984\n",
    "#R: Considering 2 decimal digits, they are the same.\n",
    "def train_linear_regression(X, y):\n",
    "    ones=np.ones(X.shape[0])\n",
    "    X=np.column_stack([ones,X])\n",
    "    \n",
    "    XTX=X.T.dot(X)\n",
    "    XTX_inv=np.linalg.inv(XTX)\n",
    "    w=XTX_inv.dot(X.T).dot(y)\n",
    "    \n",
    "    return w[0],w[1:]"
   ]
  },
  {
   "cell_type": "code",
   "execution_count": 59,
   "id": "a3760115",
   "metadata": {},
   "outputs": [],
   "source": [
    "def rmse(y, y_pred):\n",
    "    se = (y - y_pred)**2\n",
    "    mse=se.mean()\n",
    "    return np.sqrt(mse)"
   ]
  },
  {
   "cell_type": "code",
   "execution_count": null,
   "id": "bd58c97a",
   "metadata": {},
   "outputs": [],
   "source": [
    "features.remove('median_house_value')\n",
    "features"
   ]
  },
  {
   "cell_type": "code",
   "execution_count": 98,
   "id": "e2f0f96b",
   "metadata": {},
   "outputs": [],
   "source": [
    "def prepare_X_zero(df):\n",
    "    X = df[features].fillna(0).values\n",
    "    return X"
   ]
  },
  {
   "cell_type": "code",
   "execution_count": 225,
   "id": "621454ac",
   "metadata": {},
   "outputs": [
    {
     "data": {
      "text/plain": [
       "0.335"
      ]
     },
     "execution_count": 225,
     "metadata": {},
     "output_type": "execute_result"
    }
   ],
   "source": [
    "#filling with 0\n",
    "X_train=prepare_X_zero(df_train)\n",
    "w0, w = train_linear_regression(X_train,y_train)\n",
    "\n",
    "X_val = prepare_X_zero(df_val) \n",
    "y_pred = w0+X_val.dot(w)\n",
    "\n",
    "score = rmse(y_val,y_pred)\n",
    "round(score, 3)"
   ]
  },
  {
   "cell_type": "code",
   "execution_count": 153,
   "id": "53363b4f",
   "metadata": {},
   "outputs": [
    {
     "data": {
      "text/plain": [
       "Index(['latitude', 'longitude', 'housing_median_age', 'total_rooms',\n",
       "       'total_bedrooms', 'population', 'households', 'median_income'],\n",
       "      dtype='object')"
      ]
     },
     "execution_count": 153,
     "metadata": {},
     "output_type": "execute_result"
    }
   ],
   "source": [
    "df_train.columns"
   ]
  },
  {
   "cell_type": "code",
   "execution_count": 163,
   "id": "cf237a29",
   "metadata": {},
   "outputs": [],
   "source": [
    "#imputing with mean\n",
    "def prepare_X_mean(df_mean):\n",
    "    df_out=df_mean.copy()\n",
    "    for column in df_out.columns:\n",
    "        media = df_train[column].mean()\n",
    "        df_out[column].fillna(media,inplace=True)\n",
    "    return df_out.values"
   ]
  },
  {
   "cell_type": "code",
   "execution_count": 170,
   "id": "8cb1f3ed",
   "metadata": {},
   "outputs": [
    {
     "data": {
      "text/plain": [
       "0.34"
      ]
     },
     "execution_count": 170,
     "metadata": {},
     "output_type": "execute_result"
    }
   ],
   "source": [
    "#checking the RMSE\n",
    "X_train=prepare_X_mean(df_train)\n",
    "w0, w = train_linear_regression(X_train,y_train)\n",
    "\n",
    "X_val = prepare_X_mean(df_val)\n",
    "y_pred = w0+X_val.dot(w)\n",
    "\n",
    "score = rmse(y_val,y_pred)\n",
    "round(score, 2)"
   ]
  },
  {
   "cell_type": "markdown",
   "id": "c58e4789",
   "metadata": {},
   "source": [
    "## Question 4"
   ]
  },
  {
   "cell_type": "code",
   "execution_count": 209,
   "id": "9ad7405e",
   "metadata": {},
   "outputs": [],
   "source": [
    "#R: the best r, in this case, is 0.000001\n",
    "'''\n",
    "\n",
    "    Now let's train a regularized linear regression.\n",
    "    For this question, fill the NAs with 0.\n",
    "    Try different values of r from this list: [0, 0.000001, 0.0001, 0.001, 0.01, 0.1, 1, 5, 10].\n",
    "    Use RMSE to evaluate the model on the validation dataset.\n",
    "    Round the RMSE scores to 2 decimal digits.\n",
    "    Which r gives the best RMSE?\n",
    "\n",
    "'''\n",
    "def train_linear_regression_reg(X, y, r=0.001):\n",
    "    ones = np.ones(X.shape[0])\n",
    "    X = np.column_stack([ones,X])\n",
    "    \n",
    "    XTX = X.T.dot(X)\n",
    "    XTX = XTX + (np.eye(XTX.shape[0]) * r)\n",
    "    \n",
    "    XTX_inv = np.linalg.inv(XTX)\n",
    "    w = XTX_inv.dot(X.T).dot(y)\n",
    "    \n",
    "    return w[0],w[1:]"
   ]
  },
  {
   "cell_type": "code",
   "execution_count": 210,
   "id": "510d4354",
   "metadata": {},
   "outputs": [],
   "source": [
    "def get_best_r():\n",
    "    best_r=0\n",
    "    best_score=10000\n",
    "    for r in [0, 0.000001, 0.0001, 0.001, 0.01, 0.1, 1, 5, 10]:\n",
    "        X_train = prepare_X_zero(df_train) \n",
    "        w0,w = train_linear_regression_reg(X_train,y_train,r=r) #fit\n",
    "\n",
    "        X_val = prepare_X_zero(df_val) \n",
    "        y_pred = w0 + X_val.dot(w)\n",
    "\n",
    "        score = rmse(y_val,y_pred)\n",
    "        score = round(score, 2)\n",
    "        \n",
    "        if(score < best_score):\n",
    "                best_score = score\n",
    "                best_r = r\n",
    "        print(\"rs: \", r, \"| score:\", score)\n",
    "    "
   ]
  },
  {
   "cell_type": "code",
   "execution_count": 211,
   "id": "a66a4568",
   "metadata": {},
   "outputs": [
    {
     "name": "stdout",
     "output_type": "stream",
     "text": [
      "rs:  0 | score: 0.34\n",
      "rs:  1e-06 | score: 0.34\n",
      "rs:  0.0001 | score: 0.34\n",
      "rs:  0.001 | score: 0.34\n",
      "rs:  0.01 | score: 0.34\n",
      "rs:  0.1 | score: 0.34\n",
      "rs:  1 | score: 0.34\n",
      "rs:  5 | score: 0.34\n",
      "rs:  10 | score: 0.34\n"
     ]
    }
   ],
   "source": [
    "get_best_r()"
   ]
  },
  {
   "cell_type": "markdown",
   "id": "e8ad1ec9",
   "metadata": {},
   "source": [
    "## Question 5"
   ]
  },
  {
   "cell_type": "code",
   "execution_count": null,
   "id": "d1b18cfc",
   "metadata": {},
   "outputs": [],
   "source": [
    "#R: 0.005. It can vary.\n",
    "'''\n",
    "    We used seed 42 for splitting the data. Let's find out how selecting the seed influences our score.\n",
    "    Try different seed values: [0, 1, 2, 3, 4, 5, 6, 7, 8, 9].\n",
    "    For each seed, do the train/validation/test split with 60%/20%/20% distribution.\n",
    "    Fill the missing values with 0 and train a model without regularization.\n",
    "    For each seed, evaluate the model on the validation dataset and collect the RMSE scores.\n",
    "    What's the standard deviation of all the scores? To compute the standard deviation, use np.std.\n",
    "    Round the result to 3 decimal digits (round(std, 3))\n",
    "'''\n",
    "#Shuffling data.\n",
    "#Seed = 0. RMSE = 0.3448608802161421\n",
    "#Seed = 1. RMSE = 0.36220965229938007\n",
    "#Seed = 2. RMSE = 0.3374856671811416\n",
    "#Seed = 3. RMSE = 0.33049372938415095\n",
    "#Seed = 4. RMSE = 0.34010830759704214\n",
    "#Seed = 5. RMSE = 0.33371958002363145\n",
    "#Seed = 6. RMSE = 0.3360690274188254\n",
    "#Seed = 7. RMSE = 0.344578787650218\n",
    "#Seed = 8. RMSE = 0.33673204523735806\n",
    "#Seed = 9. RMSE = 0.3358829158251305\n",
    "\n",
    "a=[]\n",
    "for i in range(0,10):\n",
    "    idx=np.arange(n)\n",
    "    np.random.seed(i)\n",
    "    np.random.shuffle(idx)\n",
    "    \n",
    "    n = len(df_sub)\n",
    "    n_val=int(n*0.2) #%20\n",
    "    n_test=int(n*0.2) #%20\n",
    "    n_train=n-n_val-n_test\n",
    "\n",
    "    df_train=df_sub.iloc[idx[:n_train]]\n",
    "    df_val=df_sub.iloc[idx[n_train:n_train+n_val]]\n",
    "    df_test=df_sub.iloc[idx[n_train+n_val:]]\n",
    "    \n",
    "    df_train=df_train.reset_index(drop=True)\n",
    "    df_val=df_val.reset_index(drop=True)\n",
    "    df_test=df_test.reset_index(drop=True)\n",
    "\n",
    "    y_train=np.log1p(df_train.median_house_value.values)\n",
    "    y_val=np.log1p(df_val.median_house_value.values)\n",
    "    y_test=np.log1p(df_test.median_house_value.values)\n",
    "\n",
    "    del df_train['median_house_value']\n",
    "    del df_val['median_house_value']\n",
    "    del df_test['median_house_value']\n",
    "\n",
    "    #filling with 0\n",
    "    X_train=prepare_X_zero(df_train)\n",
    "    w0, w = train_linear_regression(X_train,y_train)\n",
    "\n",
    "    X_val = prepare_X_zero(df_val) \n",
    "    y_pred = w0+X_val.dot(w)\n",
    "\n",
    "    score = rmse(y_val,y_pred)\n",
    "    a.append(score)\n",
    "    \n",
    "print(a)"
   ]
  },
  {
   "cell_type": "code",
   "execution_count": 288,
   "id": "6e9219a4",
   "metadata": {},
   "outputs": [
    {
     "data": {
      "text/plain": [
       "0.006"
      ]
     },
     "execution_count": 288,
     "metadata": {},
     "output_type": "execute_result"
    }
   ],
   "source": [
    "std=np.std(a)\n",
    "round(std,3)"
   ]
  },
  {
   "cell_type": "markdown",
   "id": "c280cefd",
   "metadata": {},
   "source": [
    "## Question 6"
   ]
  },
  {
   "cell_type": "code",
   "execution_count": 350,
   "id": "938b2d65",
   "metadata": {},
   "outputs": [
    {
     "data": {
      "text/plain": [
       "0.33498993366147484"
      ]
     },
     "execution_count": 350,
     "metadata": {},
     "output_type": "execute_result"
    }
   ],
   "source": [
    "#R = 0.33498993366147484\n",
    "idx=np.arange(n)\n",
    "np.random.seed(9)\n",
    "np.random.shuffle(idx)\n",
    "\n",
    "n = len(df_sub)\n",
    "n_val=int(n*0.2) #%20\n",
    "n_test=int(n*0.2) #%20\n",
    "n_train=n-n_val-n_test\n",
    "\n",
    "df_train=df_sub.iloc[idx[:n_train]]\n",
    "df_val=df_sub.iloc[idx[n_train:n_train+n_val]]\n",
    "df_test=df_sub.iloc[idx[n_train+n_val:]]\n",
    "\n",
    "df_train=df_train.reset_index(drop=True)\n",
    "df_val=df_val.reset_index(drop=True)\n",
    "df_test=df_test.reset_index(drop=True)\n",
    "df_full=pd.concat([df_train, df_val], ignore_index=True)\n",
    "\n",
    "y_train=np.log1p(df_train.median_house_value.values)\n",
    "y_val=np.log1p(df_val.median_house_value.values)\n",
    "y_test=np.log1p(df_test.median_house_value.values)\n",
    "y_full=np.log1p(df_full.median_house_value.values)\n",
    "\n",
    "del df_train['median_house_value']\n",
    "del df_val['median_house_value']\n",
    "del df_test['median_house_value']\n",
    "del df_full['median_house_value']\n",
    "\n",
    "df_full\n",
    "\n",
    "#filling with 0\n",
    "X_full=prepare_X_zero(df_full)\n",
    "w0, w = train_linear_regression_reg(X_full,y_full,r=0.001)\n",
    "\n",
    "X_test = prepare_X_zero(df_test) \n",
    "y_pred = w0+X_test.dot(w)\n",
    "\n",
    "score = rmse(y_test,y_pred)\n",
    "score"
   ]
  },
  {
   "cell_type": "code",
   "execution_count": null,
   "id": "f5ab72a9",
   "metadata": {},
   "outputs": [],
   "source": []
  }
 ],
 "metadata": {
  "kernelspec": {
   "display_name": "Python 3 (ipykernel)",
   "language": "python",
   "name": "python3"
  },
  "language_info": {
   "codemirror_mode": {
    "name": "ipython",
    "version": 3
   },
   "file_extension": ".py",
   "mimetype": "text/x-python",
   "name": "python",
   "nbconvert_exporter": "python",
   "pygments_lexer": "ipython3",
   "version": "3.8.15"
  }
 },
 "nbformat": 4,
 "nbformat_minor": 5
}
